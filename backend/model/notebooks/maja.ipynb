{
 "cells": [
  {
   "cell_type": "code",
   "execution_count": 12,
   "metadata": {},
   "outputs": [],
   "source": [
    "import numpy as np\n",
    "import pandas as pd"
   ]
  },
  {
   "cell_type": "code",
   "execution_count": 15,
   "metadata": {},
   "outputs": [],
   "source": [
    "positive = []\n",
    "negative = []\n",
    "ad = []\n",
    "with open('../data/advertisment_positive.txt', encoding='utf-8') as file:\n",
    "    for line in file:\n",
    "        if line == \"***\\n\":\n",
    "            positive.append(ad)\n",
    "            ad = []\n",
    "        else:\n",
    "            ad.append(line)\n",
    "\n",
    "\n",
    "with open('../data/advertisment_negative.txt', encoding='utf-8') as file:\n",
    "    for line in file:\n",
    "        if line == \"***\\n\":\n",
    "            negative.append(ad)\n",
    "            ad = []\n",
    "        else:\n",
    "            ad.append(line)"
   ]
  },
  {
   "cell_type": "code",
   "execution_count": 16,
   "metadata": {},
   "outputs": [],
   "source": [
    "df_positive = pd.DataFrame({'text': positive})\n",
    "df_negative = pd.DataFrame({'text': positive})"
   ]
  },
  {
   "cell_type": "code",
   "execution_count": 17,
   "metadata": {},
   "outputs": [
    {
     "data": {
      "text/html": [
       "<div>\n",
       "<style scoped>\n",
       "    .dataframe tbody tr th:only-of-type {\n",
       "        vertical-align: middle;\n",
       "    }\n",
       "\n",
       "    .dataframe tbody tr th {\n",
       "        vertical-align: top;\n",
       "    }\n",
       "\n",
       "    .dataframe thead th {\n",
       "        text-align: right;\n",
       "    }\n",
       "</style>\n",
       "<table border=\"1\" class=\"dataframe\">\n",
       "  <thead>\n",
       "    <tr style=\"text-align: right;\">\n",
       "      <th></th>\n",
       "      <th>text</th>\n",
       "    </tr>\n",
       "  </thead>\n",
       "  <tbody>\n",
       "    <tr>\n",
       "      <th>0</th>\n",
       "      <td>[Opis ogłoszenia\\n, SAMODZIELNA KSIĘGOWA\\n, \\n...</td>\n",
       "    </tr>\n",
       "    <tr>\n",
       "      <th>1</th>\n",
       "      <td>[Opis ogłoszenia\\n, Manpower (Agencja zatrudni...</td>\n",
       "    </tr>\n",
       "    <tr>\n",
       "      <th>2</th>\n",
       "      <td>[Opis ogłoszenia\\n, Zatrudnimy doracę, doradcz...</td>\n",
       "    </tr>\n",
       "    <tr>\n",
       "      <th>3</th>\n",
       "      <td>[Opis ogłoszenia\\n, Jeśli:\\n, \\n, w pracy nie ...</td>\n",
       "    </tr>\n",
       "    <tr>\n",
       "      <th>4</th>\n",
       "      <td>[Opis ogłoszenia\\n, Manpower (Agencja zatrudni...</td>\n",
       "    </tr>\n",
       "    <tr>\n",
       "      <th>5</th>\n",
       "      <td>[Opis ogłoszenia\\n, Manpower (Agencja zatrudni...</td>\n",
       "    </tr>\n",
       "    <tr>\n",
       "      <th>6</th>\n",
       "      <td>[Opis ogłoszenia\\n, Manpower (Agencja zatrudni...</td>\n",
       "    </tr>\n",
       "    <tr>\n",
       "      <th>7</th>\n",
       "      <td>[OPIS\\n, Szukam ambitnych osób do zespołu, któ...</td>\n",
       "    </tr>\n",
       "    <tr>\n",
       "      <th>8</th>\n",
       "      <td>[OPIS\\n, LUBISZ DORADZAĆ INNYM? RÓB TO Z NAMI!...</td>\n",
       "    </tr>\n",
       "    <tr>\n",
       "      <th>9</th>\n",
       "      <td>[OPIS\\n, Doradca Klienta / Doradca finansowy\\n...</td>\n",
       "    </tr>\n",
       "    <tr>\n",
       "      <th>10</th>\n",
       "      <td>[OPIS\\n, Jeżeli chcesz pracować w stabilnej fi...</td>\n",
       "    </tr>\n",
       "    <tr>\n",
       "      <th>11</th>\n",
       "      <td>[OPIS\\n, Zatrudnię na stanowisku doradcy klien...</td>\n",
       "    </tr>\n",
       "    <tr>\n",
       "      <th>12</th>\n",
       "      <td>[OPIS\\n, Na co dzień jako nasz Doradca:\\n, mas...</td>\n",
       "    </tr>\n",
       "    <tr>\n",
       "      <th>13</th>\n",
       "      <td>[Praca biurowa/online oraz w terenie z kliente...</td>\n",
       "    </tr>\n",
       "    <tr>\n",
       "      <th>14</th>\n",
       "      <td>[W związku z rozwojem lubelskiego oddziału pos...</td>\n",
       "    </tr>\n",
       "    <tr>\n",
       "      <th>15</th>\n",
       "      <td>[Sprzedam fulla marki\\n, Trek Topfuel 9.8 SL c...</td>\n",
       "    </tr>\n",
       "    <tr>\n",
       "      <th>16</th>\n",
       "      <td>[Na sprzedaż używane w gravelu koła 28'' 622x1...</td>\n",
       "    </tr>\n",
       "    <tr>\n",
       "      <th>17</th>\n",
       "      <td>[Prywatne\\n, Stan: Nowe\\n, OPIS\\n, Siodełko z ...</td>\n",
       "    </tr>\n",
       "    <tr>\n",
       "      <th>18</th>\n",
       "      <td>[Prywatne\\n, Stan: Nowe\\n, OPIS\\n, Czy wiesz, ...</td>\n",
       "    </tr>\n",
       "    <tr>\n",
       "      <th>19</th>\n",
       "      <td>[Witam mam na sprzedaż jedną sztukę NOWEGO MOD...</td>\n",
       "    </tr>\n",
       "    <tr>\n",
       "      <th>20</th>\n",
       "      <td>[Prywatne\\n, Stan: Używane\\n, Marka: Kellys\\n,...</td>\n",
       "    </tr>\n",
       "    <tr>\n",
       "      <th>21</th>\n",
       "      <td>[Prywatne\\n, Stan: Używane\\n, OPIS\\n, Koła– 12...</td>\n",
       "    </tr>\n",
       "    <tr>\n",
       "      <th>22</th>\n",
       "      <td>[Firmowe\\n, Wbudowana pamięć: 256GB\\n, Stan: U...</td>\n",
       "    </tr>\n",
       "    <tr>\n",
       "      <th>23</th>\n",
       "      <td>[Prywatne\\n, Rok produkcji: 2000\\n, OPIS\\n, Sp...</td>\n",
       "    </tr>\n",
       "    <tr>\n",
       "      <th>24</th>\n",
       "      <td>[Firmowe\\n, Rok produkcji: 2022\\n, OPIS\\n, Kos...</td>\n",
       "    </tr>\n",
       "  </tbody>\n",
       "</table>\n",
       "</div>"
      ],
      "text/plain": [
       "                                                 text\n",
       "0   [Opis ogłoszenia\\n, SAMODZIELNA KSIĘGOWA\\n, \\n...\n",
       "1   [Opis ogłoszenia\\n, Manpower (Agencja zatrudni...\n",
       "2   [Opis ogłoszenia\\n, Zatrudnimy doracę, doradcz...\n",
       "3   [Opis ogłoszenia\\n, Jeśli:\\n, \\n, w pracy nie ...\n",
       "4   [Opis ogłoszenia\\n, Manpower (Agencja zatrudni...\n",
       "5   [Opis ogłoszenia\\n, Manpower (Agencja zatrudni...\n",
       "6   [Opis ogłoszenia\\n, Manpower (Agencja zatrudni...\n",
       "7   [OPIS\\n, Szukam ambitnych osób do zespołu, któ...\n",
       "8   [OPIS\\n, LUBISZ DORADZAĆ INNYM? RÓB TO Z NAMI!...\n",
       "9   [OPIS\\n, Doradca Klienta / Doradca finansowy\\n...\n",
       "10  [OPIS\\n, Jeżeli chcesz pracować w stabilnej fi...\n",
       "11  [OPIS\\n, Zatrudnię na stanowisku doradcy klien...\n",
       "12  [OPIS\\n, Na co dzień jako nasz Doradca:\\n, mas...\n",
       "13  [Praca biurowa/online oraz w terenie z kliente...\n",
       "14  [W związku z rozwojem lubelskiego oddziału pos...\n",
       "15  [Sprzedam fulla marki\\n, Trek Topfuel 9.8 SL c...\n",
       "16  [Na sprzedaż używane w gravelu koła 28'' 622x1...\n",
       "17  [Prywatne\\n, Stan: Nowe\\n, OPIS\\n, Siodełko z ...\n",
       "18  [Prywatne\\n, Stan: Nowe\\n, OPIS\\n, Czy wiesz, ...\n",
       "19  [Witam mam na sprzedaż jedną sztukę NOWEGO MOD...\n",
       "20  [Prywatne\\n, Stan: Używane\\n, Marka: Kellys\\n,...\n",
       "21  [Prywatne\\n, Stan: Używane\\n, OPIS\\n, Koła– 12...\n",
       "22  [Firmowe\\n, Wbudowana pamięć: 256GB\\n, Stan: U...\n",
       "23  [Prywatne\\n, Rok produkcji: 2000\\n, OPIS\\n, Sp...\n",
       "24  [Firmowe\\n, Rok produkcji: 2022\\n, OPIS\\n, Kos..."
      ]
     },
     "execution_count": 17,
     "metadata": {},
     "output_type": "execute_result"
    }
   ],
   "source": [
    "df_positive"
   ]
  },
  {
   "cell_type": "code",
   "execution_count": 32,
   "metadata": {},
   "outputs": [
    {
     "data": {
      "text/plain": [
       "text    [Opis ogłoszenia\\n, SAMODZIELNA KSIĘGOWA\\n, \\n, Twój zakres obowiązków\\n, Księgowanie dokumentów;\\n, Rozliczanie produkcji w toku oraz produkcji gotowej;\\n, Analiza i rozliczanie wyznaczonych kont analitycznych;\\n, Odpowiedzialność za zarządzanie projektami, przegląd wyników oraz za wdrażanie zasad należytej staranności w zakresie rozliczania podatku VAT, CIT oraz bieżącej sprawozdawczości;\\n, Współpraca z zespołem administracyjnym oraz innymi działami począwszy od budowania strategii działu finansowo księgowego, planowania, realizacji strategii i sprawozdawczości;\\n, Przeprowadzanie na czas analizy i raportowania danych w celu umożliwienia podejmowania strategicznych decyzji;\\n, Łączność i współpraca z innymi zespołami w celu wykorzystania potencjalnych możliwości usprawnień i koordynacja z innymi funkcjami w celu zebrania i dostarczenia odpowiednich informacji zespołom, budowanie procesów dla realizacji\\n, Zaangażowanie, wsparcie i pomoc innym Pracownikom firmy w gromadzeniu najl...\n",
       "Name: 0, dtype: object"
      ]
     },
     "execution_count": 32,
     "metadata": {},
     "output_type": "execute_result"
    }
   ],
   "source": [
    "df_positive.iloc[0]"
   ]
  },
  {
   "cell_type": "code",
   "execution_count": 31,
   "metadata": {},
   "outputs": [],
   "source": [
    "pd.set_option('max_colwidth', 1000)"
   ]
  },
  {
   "cell_type": "code",
   "execution_count": 37,
   "metadata": {},
   "outputs": [],
   "source": [
    "def count_upper_words(text):\n",
    "    count = 0\n",
    "    for word in text:\n",
    "        if len(word) < 3:\n",
    "            continue\n",
    "        upper = 0\n",
    "        for i in range(len(word)):\n",
    "            if word[i].isupper():\n",
    "                upper += 1\n",
    "        if upper > 3:\n",
    "            count += 1\n",
    "    return count \n",
    "            \n",
    "\n",
    "    "
   ]
  },
  {
   "cell_type": "code",
   "execution_count": 41,
   "metadata": {},
   "outputs": [],
   "source": [
    "a = count_upper_words(df_positive.iloc[8])"
   ]
  },
  {
   "cell_type": "code",
   "execution_count": 44,
   "metadata": {},
   "outputs": [
    {
     "name": "stdout",
     "output_type": "stream",
     "text": [
      "['OPIS\\n', 'LUBISZ DORADZAĆ INNYM? RÓB TO Z NAMI!\\n', 'Doradzaj i ubezpieczaj jako MŁODSZY SPRZEDAWCA FINANSOWY i zajmij się:\\n', 'profesjonalną obsługą klientów w salonach RTV EURO AGD – prezentowaniem oferty finansowej i ubezpieczeniowej,\\n', 'przyjmowaniem należności za zrealizowaną transakcję,\\n', 'kreowaniem profesjonalnego wizerunku naszej marki.\\n', 'Zyskaj:\\n', 'stabilną i pewną pracę na etat, w miejscu, w którym dobra atmosfera to codzienność,\\xa0\\n', 'dwuskładnikowe wynagrodzenie: pensja + premia (bez limitu!) za osiągane wyniki,\\n', 'profesjonalny system szkoleń, który pozwoli Ci nabyć niezbędną wiedzę i kompetencje do pracy,\\n', 'atrakcyjny pakiet benefitów, który pozwoli Ci zadbać o zdrowie, ubezpieczyć się na życie, uprawiać sport (karta MultiSport, firmowy Klub Biegacza, Klub Rowerzysty), zyskać bonus finansowy za polecenia do pracy,\\n', 'zespół, na który możesz liczyć – lubimy się i wspieramy, bo #łączą nas ludzie\\n', 'ciekawe doświadczenie.\\n', '\\n', 'W pracy przyda Ci się:\\n', 'autentyczna pasja w kontakcie z innymi ludźmi – budowanie relacji to podstawa w tej pracy,\\n', 'otwartość, sumienność, gotowość do nauki i realizacji celów,\\n', 'łatwość w komunikowaniu się oraz wysoka kultura osobista,\\n', 'doświadczenie w obsłudze klienta – bez względu na branżę czy rodzaj stanowiska.\\n']\n"
     ]
    },
    {
     "ename": "AttributeError",
     "evalue": "'list' object has no attribute 'isupper'",
     "output_type": "error",
     "traceback": [
      "\u001b[1;31m---------------------------------------------------------------------------\u001b[0m",
      "\u001b[1;31mAttributeError\u001b[0m                            Traceback (most recent call last)",
      "Cell \u001b[1;32mIn[44], line 3\u001b[0m\n\u001b[0;32m      1\u001b[0m \u001b[39mfor\u001b[39;00m word \u001b[39min\u001b[39;00m df_positive\u001b[39m.\u001b[39miloc[\u001b[39m8\u001b[39m]:\n\u001b[0;32m      2\u001b[0m     \u001b[39mprint\u001b[39m(word)\n\u001b[1;32m----> 3\u001b[0m     \u001b[39mprint\u001b[39m(word\u001b[39m.\u001b[39;49misupper())\n",
      "\u001b[1;31mAttributeError\u001b[0m: 'list' object has no attribute 'isupper'"
     ]
    }
   ],
   "source": [
    "for word in df_positive.iloc[8]:\n",
    "    print(word)\n",
    "    print(word.isupper())\n",
    "\n"
   ]
  },
  {
   "cell_type": "code",
   "execution_count": null,
   "metadata": {},
   "outputs": [],
   "source": []
  }
 ],
 "metadata": {
  "kernelspec": {
   "display_name": ".venv",
   "language": "python",
   "name": "python3"
  },
  "language_info": {
   "codemirror_mode": {
    "name": "ipython",
    "version": 3
   },
   "file_extension": ".py",
   "mimetype": "text/x-python",
   "name": "python",
   "nbconvert_exporter": "python",
   "pygments_lexer": "ipython3",
   "version": "3.10.1"
  },
  "orig_nbformat": 4
 },
 "nbformat": 4,
 "nbformat_minor": 2
}
