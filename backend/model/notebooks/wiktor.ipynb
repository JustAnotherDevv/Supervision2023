{
 "cells": [
  {
   "cell_type": "code",
   "execution_count": 243,
   "metadata": {},
   "outputs": [],
   "source": [
    "import numpy as np\n",
    "import pandas as pd\n",
    "import sys\n",
    "import re\n",
    "sys.path.append('..')\n",
    "import preprocessing.preprocessor\n",
    "import importlib\n",
    "importlib.reload(preprocessing.preprocessor)\n",
    "from preprocessing.preprocessor import Preprocessor"
   ]
  },
  {
   "cell_type": "code",
   "execution_count": 277,
   "metadata": {},
   "outputs": [],
   "source": [
    "def load_data_txt(abolute_file_path: str, sep: str, encoding: str = \"utf-8\"):\n",
    "    result = []\n",
    "    ad = []\n",
    "    with open(abolute_file_path, encoding=encoding) as file:\n",
    "        for line in file:\n",
    "            if line == sep:\n",
    "                result.append(ad)\n",
    "                ad = []\n",
    "            else:\n",
    "                ad.append(line)\n",
    "    return result\n"
   ]
  },
  {
   "cell_type": "code",
   "execution_count": 69,
   "metadata": {},
   "outputs": [],
   "source": [
    "positive = []\n",
    "negative = []\n",
    "\n",
    "\n",
    "with open('../data/advertisment_negative.txt', encoding='utf-8') as file:\n",
    "    for line in file:\n",
    "        if line == \"***\\n\":\n",
    "            negative.append(ad)\n",
    "            ad = []\n",
    "        else:\n",
    "            ad.append(line)\n"
   ]
  },
  {
   "cell_type": "code",
   "execution_count": 279,
   "metadata": {},
   "outputs": [],
   "source": [
    "df_positive = pd.DataFrame({'text': load_data_txt('../data/advertisment_positive.txt', sep=\"***\\n\", encoding='utf-8')})\n",
    "df_negative = pd.DataFrame({'text': load_data_txt('../data/advertisment_negative.txt', sep=\"***\\n\", encoding='utf-8')})"
   ]
  },
  {
   "cell_type": "code",
   "execution_count": 78,
   "metadata": {},
   "outputs": [],
   "source": [
    "pd.set_option('max_colwidth', 1000)"
   ]
  },
  {
   "cell_type": "code",
   "execution_count": 101,
   "metadata": {},
   "outputs": [],
   "source": [
    "df = pd.read_csv('./../data/exampleOlxData.csv')"
   ]
  },
  {
   "cell_type": "code",
   "execution_count": 257,
   "metadata": {},
   "outputs": [],
   "source": [
    "df_positive['text'] = df_positive['text'].apply(lambda str_list: \" \".join(str_list))\n",
    "df_negative['text'] = df_negative['text'].apply(lambda str_list: \" \".join(str_list))"
   ]
  },
  {
   "cell_type": "code",
   "execution_count": 258,
   "metadata": {},
   "outputs": [],
   "source": [
    "df_negative['account_created_on'] = '12-01-2023'\n",
    "df_negative['post_upload_on'] = '12-01-2023'"
   ]
  },
  {
   "cell_type": "code",
   "execution_count": 259,
   "metadata": {},
   "outputs": [],
   "source": [
    "preprocessor = Preprocessor(df_negative, '../data/stop_words_polish.txt')"
   ]
  },
  {
   "cell_type": "code",
   "execution_count": 260,
   "metadata": {},
   "outputs": [],
   "source": [
    "preprocessor.preprocess_data('text', 'account_created_on', 'post_upload_on')\n",
    "df_negative_preprocessed = preprocessor.df"
   ]
  },
  {
   "cell_type": "code",
   "execution_count": 261,
   "metadata": {},
   "outputs": [],
   "source": [
    "fe_dict = {'sprzedac': ['sprzedać'], \n",
    "          'kupic':['kupić'],\n",
    "          'konto':['konto'],\n",
    "          'bankowy':['bankowy'],\n",
    "          'bankowosc': ['bankowość'],\n",
    "          'zalozenie_konta':['zapłaca','założeć'],\n",
    "          'komornik':['komornik'],\n",
    "          'udostepnia':['udostępnia'],\n",
    "          'finanse': ['finanse'],\n",
    "          'ryzyko': ['ryzyko'],\n",
    "        'bezpieczny':['bezpieczny'],\n",
    "        'przelew': ['przelew'],\n",
    "        'procent': ['procent'],\n",
    "        'kwota': ['kwota'],\n",
    "      'krypto': ['krypto'],\n",
    "      'kryptowaluta': ['kryptowaluta'],\n",
    "      'slupa':['słupa'],\n",
    "      'slup':['słup'],\n",
    "      'tylko': ['tylko'],\n",
    "      'szybko': ['szybko'],\n",
    "      'zysk': ['zysk'],\n",
    "      'przelew':['przelew'],\n",
    "      'dane':['dane'],\n",
    "      'rozny_bank':['różny','bank'],\n",
    "      'prowizja':['prowizja'],\n",
    "    'otworzyc':['otworzyć'],\n",
    "    'zajecie_komornicze':['zajęć','komornicz'],\n",
    "    'oferta_ograniczona':['oferta','ograniczyć'],\n",
    "    'zakladane_w_oddziale':['zakładać','oddział'],\n",
    "   'brak_blokad':['brak','blokad'],\n",
    "   'brak_limitu':['limit'],\n",
    "   'dokumenty_bankowe':['dokument','bank'],\n",
    "   'umowa':['umowa'],\n",
    "  'karta': 'karta',\n",
    "  'sim': ['sim'],\n",
    "  'kaucja': ['kaucja'],\n",
    "  'opłata': ['opłata'],\n",
    "   'skan_dowodu':['skan','dowód'],\n",
    "   'dluga_wspolpraca':['długi','współpraca'],\n",
    "  'zbudowac_zaufanie':['zbudować','zaufanie'],\n",
    " 'gwarancja':['gwarancja'],\n",
    " 'legalny':['legalny'],\n",
    " 'pożyczka': ['pożyczka'],\n",
    " 'powazna_propozycja':['poważny','propozycja'],\n",
    " 'dziś': ['dziś'],\n",
    " 'teraz': ['teraz']}"
   ]
  },
  {
   "cell_type": "code",
   "execution_count": 262,
   "metadata": {},
   "outputs": [],
   "source": [
    "import feature_engineering.feature_extractor\n",
    "import importlib\n",
    "importlib.reload(feature_engineering.feature_extractor)\n",
    "from feature_engineering.feature_extractor import FeatureExtractor"
   ]
  },
  {
   "cell_type": "code",
   "execution_count": 263,
   "metadata": {},
   "outputs": [],
   "source": [
    "fe = FeatureExtractor(df_negative_preprocessed)\n",
    "fe.feature_engineering('text', terms_dict=fe_dict)"
   ]
  },
  {
   "cell_type": "code",
   "execution_count": 265,
   "metadata": {},
   "outputs": [],
   "source": [
    "postprocessor = Preprocessor(fe.df, '../data/stop_words_polish.txt')"
   ]
  },
  {
   "cell_type": "code",
   "execution_count": 268,
   "metadata": {},
   "outputs": [],
   "source": [
    "postprocessor.postprocess_data('text')\n",
    "df_negative_postprocessed = postprocessor.df"
   ]
  },
  {
   "cell_type": "code",
   "execution_count": 270,
   "metadata": {},
   "outputs": [],
   "source": [
    "fe = FeatureExtractor(df_negative_postprocessed)\n",
    "fe.feature_engineering('text', fe_dict, postprocessed=True)"
   ]
  },
  {
   "cell_type": "code",
   "execution_count": 274,
   "metadata": {},
   "outputs": [
    {
     "data": {
      "text/plain": [
       "Index(['text', 'account_created_on', 'post_upload_on',\n",
       "       'exclamation_marks_count', 'upper_words_count', 'sprzedac', 'kupic',\n",
       "       'konto', 'bankowy', 'bankowosc', 'zalozenie_konta', 'komornik',\n",
       "       'udostepnia', 'finanse', 'ryzyko', 'bezpieczny', 'przelew', 'procent',\n",
       "       'kwota', 'krypto', 'slupa', 'slup', 'tylko', 'szybko', 'zysk', 'dane',\n",
       "       'rozny_bank', 'prowizja', 'otworzyc', 'zajecie_komornicze',\n",
       "       'oferta_ograniczona', 'zakladane_w_oddziale', 'brak_blokad',\n",
       "       'brak_limitu', 'dokumenty_bankowe', 'umowa', 'karta', 'sim', 'kaucja',\n",
       "       'opłata', 'skan_dowodu', 'dluga_wspolpraca', 'zbudowac_zaufanie',\n",
       "       'gwarancja', 'legalny', 'powazna_propozycja'],\n",
       "      dtype='object')"
      ]
     },
     "execution_count": 274,
     "metadata": {},
     "output_type": "execute_result"
    }
   ],
   "source": [
    "fe.df.columns"
   ]
  },
  {
   "cell_type": "code",
   "execution_count": 276,
   "metadata": {},
   "outputs": [],
   "source": [
    "# dump dict to json\n",
    "import json \n",
    "with open(\"feautures_dict.json\", \"w\") as outfile:\n",
    "    json.dump(fe_dict, outfile)"
   ]
  },
  {
   "cell_type": "code",
   "execution_count": 288,
   "metadata": {},
   "outputs": [],
   "source": [
    "df_model = fe.df.copy()"
   ]
  },
  {
   "cell_type": "code",
   "execution_count": 289,
   "metadata": {},
   "outputs": [],
   "source": [
    "df_model['hours_from_account_creation'] =  (fe.df['account_created_on'] - fe.df['post_upload_on']).dt.components['hours']"
   ]
  },
  {
   "cell_type": "code",
   "execution_count": 292,
   "metadata": {},
   "outputs": [],
   "source": [
    "df_model['fake'] = 1"
   ]
  },
  {
   "cell_type": "code",
   "execution_count": 306,
   "metadata": {},
   "outputs": [],
   "source": [
    "X = df_model.drop(['text', 'account_created_on', 'post_upload_on'], axis=1)\n",
    "y = df_model['fake']"
   ]
  },
  {
   "cell_type": "code",
   "execution_count": 307,
   "metadata": {},
   "outputs": [
    {
     "data": {
      "text/html": [
       "<style>#sk-container-id-3 {color: black;background-color: white;}#sk-container-id-3 pre{padding: 0;}#sk-container-id-3 div.sk-toggleable {background-color: white;}#sk-container-id-3 label.sk-toggleable__label {cursor: pointer;display: block;width: 100%;margin-bottom: 0;padding: 0.3em;box-sizing: border-box;text-align: center;}#sk-container-id-3 label.sk-toggleable__label-arrow:before {content: \"▸\";float: left;margin-right: 0.25em;color: #696969;}#sk-container-id-3 label.sk-toggleable__label-arrow:hover:before {color: black;}#sk-container-id-3 div.sk-estimator:hover label.sk-toggleable__label-arrow:before {color: black;}#sk-container-id-3 div.sk-toggleable__content {max-height: 0;max-width: 0;overflow: hidden;text-align: left;background-color: #f0f8ff;}#sk-container-id-3 div.sk-toggleable__content pre {margin: 0.2em;color: black;border-radius: 0.25em;background-color: #f0f8ff;}#sk-container-id-3 input.sk-toggleable__control:checked~div.sk-toggleable__content {max-height: 200px;max-width: 100%;overflow: auto;}#sk-container-id-3 input.sk-toggleable__control:checked~label.sk-toggleable__label-arrow:before {content: \"▾\";}#sk-container-id-3 div.sk-estimator input.sk-toggleable__control:checked~label.sk-toggleable__label {background-color: #d4ebff;}#sk-container-id-3 div.sk-label input.sk-toggleable__control:checked~label.sk-toggleable__label {background-color: #d4ebff;}#sk-container-id-3 input.sk-hidden--visually {border: 0;clip: rect(1px 1px 1px 1px);clip: rect(1px, 1px, 1px, 1px);height: 1px;margin: -1px;overflow: hidden;padding: 0;position: absolute;width: 1px;}#sk-container-id-3 div.sk-estimator {font-family: monospace;background-color: #f0f8ff;border: 1px dotted black;border-radius: 0.25em;box-sizing: border-box;margin-bottom: 0.5em;}#sk-container-id-3 div.sk-estimator:hover {background-color: #d4ebff;}#sk-container-id-3 div.sk-parallel-item::after {content: \"\";width: 100%;border-bottom: 1px solid gray;flex-grow: 1;}#sk-container-id-3 div.sk-label:hover label.sk-toggleable__label {background-color: #d4ebff;}#sk-container-id-3 div.sk-serial::before {content: \"\";position: absolute;border-left: 1px solid gray;box-sizing: border-box;top: 0;bottom: 0;left: 50%;z-index: 0;}#sk-container-id-3 div.sk-serial {display: flex;flex-direction: column;align-items: center;background-color: white;padding-right: 0.2em;padding-left: 0.2em;position: relative;}#sk-container-id-3 div.sk-item {position: relative;z-index: 1;}#sk-container-id-3 div.sk-parallel {display: flex;align-items: stretch;justify-content: center;background-color: white;position: relative;}#sk-container-id-3 div.sk-item::before, #sk-container-id-3 div.sk-parallel-item::before {content: \"\";position: absolute;border-left: 1px solid gray;box-sizing: border-box;top: 0;bottom: 0;left: 50%;z-index: -1;}#sk-container-id-3 div.sk-parallel-item {display: flex;flex-direction: column;z-index: 1;position: relative;background-color: white;}#sk-container-id-3 div.sk-parallel-item:first-child::after {align-self: flex-end;width: 50%;}#sk-container-id-3 div.sk-parallel-item:last-child::after {align-self: flex-start;width: 50%;}#sk-container-id-3 div.sk-parallel-item:only-child::after {width: 0;}#sk-container-id-3 div.sk-dashed-wrapped {border: 1px dashed gray;margin: 0 0.4em 0.5em 0.4em;box-sizing: border-box;padding-bottom: 0.4em;background-color: white;}#sk-container-id-3 div.sk-label label {font-family: monospace;font-weight: bold;display: inline-block;line-height: 1.2em;}#sk-container-id-3 div.sk-label-container {text-align: center;}#sk-container-id-3 div.sk-container {/* jupyter's `normalize.less` sets `[hidden] { display: none; }` but bootstrap.min.css set `[hidden] { display: none !important; }` so we also need the `!important` here to be able to override the default hidden behavior on the sphinx rendered scikit-learn.org. See: https://github.com/scikit-learn/scikit-learn/issues/21755 */display: inline-block !important;position: relative;}#sk-container-id-3 div.sk-text-repr-fallback {display: none;}</style><div id=\"sk-container-id-3\" class=\"sk-top-container\"><div class=\"sk-text-repr-fallback\"><pre>DecisionTreeClassifier()</pre><b>In a Jupyter environment, please rerun this cell to show the HTML representation or trust the notebook. <br />On GitHub, the HTML representation is unable to render, please try loading this page with nbviewer.org.</b></div><div class=\"sk-container\" hidden><div class=\"sk-item\"><div class=\"sk-estimator sk-toggleable\"><input class=\"sk-toggleable__control sk-hidden--visually\" id=\"sk-estimator-id-3\" type=\"checkbox\" checked><label for=\"sk-estimator-id-3\" class=\"sk-toggleable__label sk-toggleable__label-arrow\">DecisionTreeClassifier</label><div class=\"sk-toggleable__content\"><pre>DecisionTreeClassifier()</pre></div></div></div></div></div>"
      ],
      "text/plain": [
       "DecisionTreeClassifier()"
      ]
     },
     "execution_count": 307,
     "metadata": {},
     "output_type": "execute_result"
    }
   ],
   "source": [
    "from sklearn.tree import DecisionTreeClassifier\n",
    "dt = DecisionTreeClassifier()\n",
    "dt.fit(X, y)"
   ]
  },
  {
   "cell_type": "code",
   "execution_count": 312,
   "metadata": {},
   "outputs": [],
   "source": [
    "import pickle\n",
    "pickle.dump(dt, open('model.sav', 'wb'))"
   ]
  },
  {
   "cell_type": "code",
   "execution_count": 317,
   "metadata": {},
   "outputs": [
    {
     "data": {
      "text/plain": [
       "[]"
      ]
     },
     "execution_count": 317,
     "metadata": {},
     "output_type": "execute_result"
    }
   ],
   "source": [
    "load_data_txt('../data/falszywe_ogloszenia.txt', sep=\";\\n\")"
   ]
  },
  {
   "cell_type": "code",
   "execution_count": 326,
   "metadata": {},
   "outputs": [],
   "source": [
    "# pd.read_csv('../data/falszywe_ogloszenia_mikolaj.txt', sep=';', header=None, names = ['title', 'text'])\n",
    "tmp = pd.read_csv('../data/falszywe_ogloszenia.txt', sep=';', header=None, names = ['text'])"
   ]
  },
  {
   "cell_type": "code",
   "execution_count": null,
   "metadata": {},
   "outputs": [],
   "source": []
  }
 ],
 "metadata": {
  "kernelspec": {
   "display_name": "venv",
   "language": "python",
   "name": "python3"
  },
  "language_info": {
   "codemirror_mode": {
    "name": "ipython",
    "version": 3
   },
   "file_extension": ".py",
   "mimetype": "text/x-python",
   "name": "python",
   "nbconvert_exporter": "python",
   "pygments_lexer": "ipython3",
   "version": "3.10.10"
  },
  "orig_nbformat": 4
 },
 "nbformat": 4,
 "nbformat_minor": 2
}
