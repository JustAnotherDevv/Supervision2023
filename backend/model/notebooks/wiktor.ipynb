{
 "cells": [
  {
   "cell_type": "code",
   "execution_count": 243,
   "metadata": {},
   "outputs": [],
   "source": [
    "import numpy as np\n",
    "import pandas as pd\n",
    "import sys\n",
    "import re\n",
    "sys.path.append('..')\n",
    "import preprocessing.preprocessor\n",
    "import importlib\n",
    "importlib.reload(preprocessing.preprocessor)\n",
    "from preprocessing.preprocessor import Preprocessor"
   ]
  },
  {
   "cell_type": "code",
   "execution_count": 277,
   "metadata": {},
   "outputs": [],
   "source": [
    "def load_data_txt(abolute_file_path: str, sep: str, encoding: str = \"utf-8\"):\n",
    "    result = []\n",
    "    ad = []\n",
    "    with open(abolute_file_path, encoding=encoding) as file:\n",
    "        for line in file:\n",
    "            if line == sep:\n",
    "                result.append(ad)\n",
    "                ad = []\n",
    "            else:\n",
    "                ad.append(line)\n",
    "    return result\n"
   ]
  },
  {
   "cell_type": "code",
   "execution_count": 69,
   "metadata": {},
   "outputs": [],
   "source": [
    "positive = []\n",
    "negative = []\n",
    "\n",
    "\n",
    "with open('../data/advertisment_negative.txt', encoding='utf-8') as file:\n",
    "    for line in file:\n",
    "        if line == \"***\\n\":\n",
    "            negative.append(ad)\n",
    "            ad = []\n",
    "        else:\n",
    "            ad.append(line)\n"
   ]
  },
  {
   "cell_type": "code",
   "execution_count": 279,
   "metadata": {},
   "outputs": [],
   "source": [
    "df_positive = pd.DataFrame({'text': load_data_txt('../data/advertisment_positive.txt', sep=\"***\\n\", encoding='utf-8')})\n",
    "df_negative = pd.DataFrame({'text': load_data_txt('../data/advertisment_negative.txt', sep=\"***\\n\", encoding='utf-8')})"
   ]
  },
  {
   "cell_type": "code",
   "execution_count": 78,
   "metadata": {},
   "outputs": [],
   "source": [
    "pd.set_option('max_colwidth', 1000)"
   ]
  },
  {
   "cell_type": "code",
   "execution_count": 101,
   "metadata": {},
   "outputs": [],
   "source": [
    "df = pd.read_csv('./../data/exampleOlxData.csv')"
   ]
  },
  {
   "cell_type": "code",
   "execution_count": 257,
   "metadata": {},
   "outputs": [],
   "source": [
    "df_positive['text'] = df_positive['text'].apply(lambda str_list: \" \".join(str_list))\n",
    "df_negative['text'] = df_negative['text'].apply(lambda str_list: \" \".join(str_list))"
   ]
  },
  {
   "cell_type": "code",
   "execution_count": 258,
   "metadata": {},
   "outputs": [],
   "source": [
    "df_negative['account_created_on'] = '12-01-2023'\n",
    "df_negative['post_upload_on'] = '12-01-2023'"
   ]
  },
  {
   "cell_type": "code",
   "execution_count": null,
   "metadata": {},
   "outputs": [],
   "source": [
    "##PIPELINE"
   ]
  },
  {
   "cell_type": "code",
   "execution_count": 259,
   "metadata": {},
   "outputs": [],
   "source": [
    "preprocessor = Preprocessor(df_negative, '../data/stop_words_polish.txt')"
   ]
  },
  {
   "cell_type": "code",
   "execution_count": 260,
   "metadata": {},
   "outputs": [],
   "source": [
    "preprocessor.preprocess_data('text', 'account_created_on', 'post_upload_on')\n",
    "df_negative_preprocessed = preprocessor.df"
   ]
  },
  {
   "cell_type": "code",
   "execution_count": 261,
   "metadata": {},
   "outputs": [],
   "source": [
    "fe_dict = {'sprzedac': ['sprzedać'], \n",
    "          'kupic':['kupić'],\n",
    "          'konto':['konto'],\n",
    "          'bankowy':['bankowy'],\n",
    "          'bankowosc': ['bankowość'],\n",
    "          'zalozenie_konta':['zapłaca','założeć'],\n",
    "          'komornik':['komornik'],\n",
    "          'udostepnia':['udostępnia'],\n",
    "          'finanse': ['finanse'],\n",
    "          'ryzyko': ['ryzyko'],\n",
    "        'bezpieczny':['bezpieczny'],\n",
    "        'przelew': ['przelew'],\n",
    "        'procent': ['procent'],\n",
    "        'kwota': ['kwota'],\n",
    "      'krypto': ['krypto'],\n",
    "      'kryptowaluta': ['kryptowaluta'],\n",
    "      'slupa':['słupa'],\n",
    "      'slup':['słup'],\n",
    "      'tylko': ['tylko'],\n",
    "      'szybko': ['szybko'],\n",
    "      'zysk': ['zysk'],\n",
    "      'przelew':['przelew'],\n",
    "      'dane':['dane'],\n",
    "      'rozny_bank':['różny','bank'],\n",
    "      'prowizja':['prowizja'],\n",
    "    'otworzyc':['otworzyć'],\n",
    "    'zajecie_komornicze':['zajęć','komornicz'],\n",
    "    'oferta_ograniczona':['oferta','ograniczyć'],\n",
    "    'zakladane_w_oddziale':['zakładać','oddział'],\n",
    "   'brak_blokad':['brak','blokad'],\n",
    "   'brak_limitu':['limit'],\n",
    "   'dokumenty_bankowe':['dokument','bank'],\n",
    "   'umowa':['umowa'],\n",
    "  'karta': 'karta',\n",
    "  'sim': ['sim'],\n",
    "  'kaucja': ['kaucja'],\n",
    "  'opłata': ['opłata'],\n",
    "   'skan_dowodu':['skan','dowód'],\n",
    "   'dluga_wspolpraca':['długi','współpraca'],\n",
    "  'zbudowac_zaufanie':['zbudować','zaufanie'],\n",
    " 'gwarancja':['gwarancja'],\n",
    " 'legalny':['legalny'],\n",
    " 'pożyczka': ['pożyczka'],\n",
    " 'powazna_propozycja':['poważny','propozycja'],\n",
    " 'dziś': ['dziś'],\n",
    " 'teraz': ['teraz']}"
   ]
  },
  {
   "cell_type": "code",
   "execution_count": 262,
   "metadata": {},
   "outputs": [],
   "source": [
    "import feature_engineering.feature_extractor\n",
    "import importlib\n",
    "importlib.reload(feature_engineering.feature_extractor)\n",
    "from feature_engineering.feature_extractor import FeatureExtractor"
   ]
  },
  {
   "cell_type": "code",
   "execution_count": 263,
   "metadata": {},
   "outputs": [],
   "source": [
    "fe = FeatureExtractor(df_negative_preprocessed)\n",
    "fe.feature_engineering('text', terms_dict=fe_dict)"
   ]
  },
  {
   "cell_type": "code",
   "execution_count": 265,
   "metadata": {},
   "outputs": [],
   "source": [
    "postprocessor = Preprocessor(fe.df, '../data/stop_words_polish.txt')"
   ]
  },
  {
   "cell_type": "code",
   "execution_count": 268,
   "metadata": {},
   "outputs": [],
   "source": [
    "postprocessor.postprocess_data('text')\n",
    "df_negative_postprocessed = postprocessor.df"
   ]
  },
  {
   "cell_type": "code",
   "execution_count": 270,
   "metadata": {},
   "outputs": [],
   "source": [
    "fe = FeatureExtractor(df_negative_postprocessed)\n",
    "fe.feature_engineering('text', fe_dict, postprocessed=True)"
   ]
  },
  {
   "cell_type": "code",
   "execution_count": null,
   "metadata": {},
   "outputs": [],
   "source": [
    "### END PIPELINE"
   ]
  },
  {
   "cell_type": "code",
   "execution_count": 288,
   "metadata": {},
   "outputs": [],
   "source": [
    "df_model = fe.df.copy()"
   ]
  },
  {
   "cell_type": "code",
   "execution_count": 289,
   "metadata": {},
   "outputs": [],
   "source": [
    "df_model['hours_from_account_creation'] =  (fe.df['account_created_on'] - fe.df['post_upload_on']).dt.components['hours']"
   ]
  },
  {
   "cell_type": "code",
   "execution_count": 292,
   "metadata": {},
   "outputs": [],
   "source": [
    "df_model['fake'] = 1"
   ]
  },
  {
   "cell_type": "code",
   "execution_count": 306,
   "metadata": {},
   "outputs": [],
   "source": [
    "X = df_model.drop(['text', 'account_created_on', 'post_upload_on'], axis=1)\n",
    "y = df_model['fake']"
   ]
  },
  {
   "cell_type": "code",
   "execution_count": 307,
   "metadata": {},
   "outputs": [
    {
     "data": {
      "text/html": [
       "<style>#sk-container-id-3 {color: black;background-color: white;}#sk-container-id-3 pre{padding: 0;}#sk-container-id-3 div.sk-toggleable {background-color: white;}#sk-container-id-3 label.sk-toggleable__label {cursor: pointer;display: block;width: 100%;margin-bottom: 0;padding: 0.3em;box-sizing: border-box;text-align: center;}#sk-container-id-3 label.sk-toggleable__label-arrow:before {content: \"▸\";float: left;margin-right: 0.25em;color: #696969;}#sk-container-id-3 label.sk-toggleable__label-arrow:hover:before {color: black;}#sk-container-id-3 div.sk-estimator:hover label.sk-toggleable__label-arrow:before {color: black;}#sk-container-id-3 div.sk-toggleable__content {max-height: 0;max-width: 0;overflow: hidden;text-align: left;background-color: #f0f8ff;}#sk-container-id-3 div.sk-toggleable__content pre {margin: 0.2em;color: black;border-radius: 0.25em;background-color: #f0f8ff;}#sk-container-id-3 input.sk-toggleable__control:checked~div.sk-toggleable__content {max-height: 200px;max-width: 100%;overflow: auto;}#sk-container-id-3 input.sk-toggleable__control:checked~label.sk-toggleable__label-arrow:before {content: \"▾\";}#sk-container-id-3 div.sk-estimator input.sk-toggleable__control:checked~label.sk-toggleable__label {background-color: #d4ebff;}#sk-container-id-3 div.sk-label input.sk-toggleable__control:checked~label.sk-toggleable__label {background-color: #d4ebff;}#sk-container-id-3 input.sk-hidden--visually {border: 0;clip: rect(1px 1px 1px 1px);clip: rect(1px, 1px, 1px, 1px);height: 1px;margin: -1px;overflow: hidden;padding: 0;position: absolute;width: 1px;}#sk-container-id-3 div.sk-estimator {font-family: monospace;background-color: #f0f8ff;border: 1px dotted black;border-radius: 0.25em;box-sizing: border-box;margin-bottom: 0.5em;}#sk-container-id-3 div.sk-estimator:hover {background-color: #d4ebff;}#sk-container-id-3 div.sk-parallel-item::after {content: \"\";width: 100%;border-bottom: 1px solid gray;flex-grow: 1;}#sk-container-id-3 div.sk-label:hover label.sk-toggleable__label {background-color: #d4ebff;}#sk-container-id-3 div.sk-serial::before {content: \"\";position: absolute;border-left: 1px solid gray;box-sizing: border-box;top: 0;bottom: 0;left: 50%;z-index: 0;}#sk-container-id-3 div.sk-serial {display: flex;flex-direction: column;align-items: center;background-color: white;padding-right: 0.2em;padding-left: 0.2em;position: relative;}#sk-container-id-3 div.sk-item {position: relative;z-index: 1;}#sk-container-id-3 div.sk-parallel {display: flex;align-items: stretch;justify-content: center;background-color: white;position: relative;}#sk-container-id-3 div.sk-item::before, #sk-container-id-3 div.sk-parallel-item::before {content: \"\";position: absolute;border-left: 1px solid gray;box-sizing: border-box;top: 0;bottom: 0;left: 50%;z-index: -1;}#sk-container-id-3 div.sk-parallel-item {display: flex;flex-direction: column;z-index: 1;position: relative;background-color: white;}#sk-container-id-3 div.sk-parallel-item:first-child::after {align-self: flex-end;width: 50%;}#sk-container-id-3 div.sk-parallel-item:last-child::after {align-self: flex-start;width: 50%;}#sk-container-id-3 div.sk-parallel-item:only-child::after {width: 0;}#sk-container-id-3 div.sk-dashed-wrapped {border: 1px dashed gray;margin: 0 0.4em 0.5em 0.4em;box-sizing: border-box;padding-bottom: 0.4em;background-color: white;}#sk-container-id-3 div.sk-label label {font-family: monospace;font-weight: bold;display: inline-block;line-height: 1.2em;}#sk-container-id-3 div.sk-label-container {text-align: center;}#sk-container-id-3 div.sk-container {/* jupyter's `normalize.less` sets `[hidden] { display: none; }` but bootstrap.min.css set `[hidden] { display: none !important; }` so we also need the `!important` here to be able to override the default hidden behavior on the sphinx rendered scikit-learn.org. See: https://github.com/scikit-learn/scikit-learn/issues/21755 */display: inline-block !important;position: relative;}#sk-container-id-3 div.sk-text-repr-fallback {display: none;}</style><div id=\"sk-container-id-3\" class=\"sk-top-container\"><div class=\"sk-text-repr-fallback\"><pre>DecisionTreeClassifier()</pre><b>In a Jupyter environment, please rerun this cell to show the HTML representation or trust the notebook. <br />On GitHub, the HTML representation is unable to render, please try loading this page with nbviewer.org.</b></div><div class=\"sk-container\" hidden><div class=\"sk-item\"><div class=\"sk-estimator sk-toggleable\"><input class=\"sk-toggleable__control sk-hidden--visually\" id=\"sk-estimator-id-3\" type=\"checkbox\" checked><label for=\"sk-estimator-id-3\" class=\"sk-toggleable__label sk-toggleable__label-arrow\">DecisionTreeClassifier</label><div class=\"sk-toggleable__content\"><pre>DecisionTreeClassifier()</pre></div></div></div></div></div>"
      ],
      "text/plain": [
       "DecisionTreeClassifier()"
      ]
     },
     "execution_count": 307,
     "metadata": {},
     "output_type": "execute_result"
    }
   ],
   "source": [
    "from sklearn.tree import DecisionTreeClassifier\n",
    "dt = DecisionTreeClassifier()\n",
    "dt.fit(X, y)"
   ]
  },
  {
   "cell_type": "code",
   "execution_count": 312,
   "metadata": {},
   "outputs": [],
   "source": [
    "import pickle\n",
    "pickle.dump(dt, open('model.sav', 'wb'))"
   ]
  },
  {
   "cell_type": "code",
   "execution_count": 317,
   "metadata": {},
   "outputs": [
    {
     "data": {
      "text/plain": [
       "[]"
      ]
     },
     "execution_count": 317,
     "metadata": {},
     "output_type": "execute_result"
    }
   ],
   "source": [
    "load_data_txt('../data/falszywe_ogloszenia.txt', sep=\";\\n\")"
   ]
  },
  {
   "cell_type": "code",
   "execution_count": 331,
   "metadata": {},
   "outputs": [
    {
     "data": {
      "text/html": [
       "<div>\n",
       "<style scoped>\n",
       "    .dataframe tbody tr th:only-of-type {\n",
       "        vertical-align: middle;\n",
       "    }\n",
       "\n",
       "    .dataframe tbody tr th {\n",
       "        vertical-align: top;\n",
       "    }\n",
       "\n",
       "    .dataframe thead th {\n",
       "        text-align: right;\n",
       "    }\n",
       "</style>\n",
       "<table border=\"1\" class=\"dataframe\">\n",
       "  <thead>\n",
       "    <tr style=\"text-align: right;\">\n",
       "      <th></th>\n",
       "      <th>title</th>\n",
       "      <th>text</th>\n",
       "    </tr>\n",
       "  </thead>\n",
       "  <tbody>\n",
       "    <tr>\n",
       "      <th>0</th>\n",
       "      <td>Praca zdalna - Zarabiaj dużo pieniędzy online!</td>\n",
       "      <td>Szukamy osób zainteresowanych pracą zdalną, która pozwoli Ci zarabiać tysiące dolarów w krótkim czasie. Nasza firma oferuje niezwykłą możliwość zarobku, bez stresu i bez potrzeby doświadczenia. Wystarczy poświęcić kilka godzin dziennie, aby rozpocząć generowanie olbrzymich zysków. Korzyści:- Zarabiaj 10 000 USD tygodniowo! - Brak limitów zarobków! - Nie musisz mieć żadnych umiejętności ani doświadczenia! - Działaj zdalnie, pracuj z dowolnego miejsca na świecie! - Bezpłatne szkolenie i wsparcie! W celu rozpoczęcia pracy, wymagamy jedynie podania swoich danych finansowych. Prosimy o podanie numeru karty kredytowej, daty ważności, kodu CVV oraz danych dostępu do Twojego konta bankowego. Gwarantujemy bezpieczeństwo i poufność Twoich informacji. Nie przegap tej wyjątkowej okazji! Skorzystaj już teraz i zmień swoje życie finansowe na zawsze! Aby się zgłosić, prosimy o wysłanie e-maila na adres: jobscam@example.com Przypominamy, że ta oferta jest ograniczona czasowo, więc nie zwlekaj!</td>\n",
       "    </tr>\n",
       "    <tr>\n",
       "      <th>1</th>\n",
       "      <td>Praca w renomowanej firmie - Wysokie zarobki i korzyści!</td>\n",
       "      <td>Jesteśmy wiodącą firmą o światowym zasięgu, poszukującą ambitnych i utalentowanych pracowników. Oferujemy pracę w dynamicznym środowisku, atrakcyjne wynagrodzenie i wiele dodatkowych korzyści. Pracuj z nami i odnieś sukces zawodowy! Wymagania: - Wykształcenie wyższe w dziedzinie finansów lub ekonomii - Doświadczenie w branży minimum 5 lat - Umiejętność zarządzania finansami i inwestycjami - Doskonała komunikacja i umiejętności interpersonalne Oferujemy: - Wysokie wynagrodzenie, premie i udziały w zyskach - Luksusowe samochody służbowe i możliwość podróży służbowych  - Elastyczny grafik pracy i możliwość pracy zdalnej- Wsparcie i szkolenia rozwojowe z- Ekscytujące projekty i możliwość awansu w firmie Aby aplikować, prosimy o przesłanie swojego CV, listu motywacyjnego i kopii dokumentów potwierdzających wykształcenie i doświadczenie na adres e-mail: joboffer@example.com. Uwaga: W celu finalizacji procesu rekrutacji, wymagamy również wpłaty kaucji w wysokości 5000 złotych. Kwota ta z...</td>\n",
       "    </tr>\n",
       "    <tr>\n",
       "      <th>2</th>\n",
       "      <td>Zajęcie komornicze - Wyprzedaż przedmiotów o wartości!</td>\n",
       "      <td>Z przykrością informujemy, że w związku z zajęciem komorniczym musimy zorganizować wyprzedaż naszych przedmiotów o wysokiej wartości. Mamy do zaoferowania unikalne okazje, które nie mogą zostać przegapione! Odkryj prawdziwe perełki i oszczędź ogromne sumy pieniędzy! Dostępne przedmioty: - Luksusowe samochody i motocykle - Biżuteria i zegarki markowych marek - Sprzęt elektroniczny i agd - Meble i dekoracje wnętrz - Antyki i kolekcjonerskie przedmioty Wszystkie przedmioty pochodzą z naszej ekskluzywnej kolekcji i są dostępne w wyjątkowo atrakcyjnych cenach. To niepowtarzalna okazja, aby zdobyć przedmioty, które normalnie są poza zasięgiem finansowym! Serdecznie zapraszamy do naszego magazynu, gdzie możesz obejrzeć i zakupić te fantastyczne przedmioty. Zapewniamy fachową obsługę i możliwość negocjacji cen. Pamiętaj, że ilość przedmiotów jest ograniczona, więc nie zwlekaj! Adres magazynu: ul. Przykładowa 123, Miasto W razie pytań, prosimy o kontakt telefoniczny pod numerem: 123-456-78...</td>\n",
       "    </tr>\n",
       "    <tr>\n",
       "      <th>3</th>\n",
       "      <td>Oferta specjalna - Karta kredytowa z niskim oprocentowaniem!</td>\n",
       "      <td>Masz dosyć wysokich oprocentowań na swojej obecnej karcie kredytowej? Oto szansa na zmianę! Oferujemy Ci specjalną kartę kredytową z niskim oprocentowaniem i atrakcyjnymi korzyściami. Nasza karta kredytowa zapewni Ci: - Stałą stopę oprocentowania na poziomie 0,99% w ciągu pierwszego roku - Brak opłat rocznych za korzystanie z karty - Elastyczny limit kredytowy, dostosowany do Twoich potrzeb - Program lojalnościowy z nagrodami i cashbackiem- Dostęp do ekskluzywnych ofert i promocji Nie trać czasu na wysokie oprocentowanie i ograniczenia innych kart! Złóż wniosek już dziś i ciesz się korzyściami, jakie oferuje nasza specjalna karta kredytowa. Aplikacja jest prosta i szybka. Wypełnij formularz online na naszej stronie internetowej lub zadzwoń pod numer: 123-456-789, a nasz zespół pomoże Ci przejść przez proces rejestracji. Pamiętaj, że oferta jest ograniczona, więc nie zwlekaj z aplikacją! Otrzymaj kartę kredytową, która zmieni Twoje finanse na lepsze!</td>\n",
       "    </tr>\n",
       "    <tr>\n",
       "      <th>4</th>\n",
       "      <td>Super okazja! Sprzedam nowy smartfon - niska cena!</td>\n",
       "      <td>Sprzedam zupełnie nowy smartfon marki XYZ w niesamowicie atrakcyjnej cenie! To doskonała okazja, aby zdobyć najnowszy model smartfona za niewielką kwotę. Specyfikacje techniczne smartfona XYZ: - Wyświetlacz Super AMOLED o przekątnej 6,4 cala - Potężny procesor ośmiordzeniowy z 4 GB pamięci RAM - Podwójny aparat fotograficzny o rozdzielczości 16 MP - Duża pojemność baterii umożliwiająca długi czas pracy - Przestrzeń magazynowa 64 GB, rozszerzalna za pomocą karty microSD Smartfon jest fabrycznie nowy, w oryginalnym opakowaniu i z wszystkimi akcesoriami. Posiada gwarancję producenta. Cena: tylko 999 złotych! To niepowtarzalna okazja, dlatego nie zwlekaj! Skontaktuj się ze mną telefonicznie pod numerem 123-456-789 lub wysyłając wiadomość e-mail na adres: example@example.com, aby uzyskać więcej informacji lub umówić się na spotkanie w celu obejrzenia i zakupu tego fantastycznego smartfona. Uwaga: Istnieje tylko jeden egzemplarz w tej niskiej cenie, więc decyduj się szybko!</td>\n",
       "    </tr>\n",
       "    <tr>\n",
       "      <th>5</th>\n",
       "      <td>Praca w branży IT - Poszukujemy programistów Java!</td>\n",
       "      <td>Jesteśmy dynamiczną firmą z branży IT, specjalizującą się w tworzeniu oprogramowania dla międzynarodowych klientów. Obecnie poszukujemy utalentowanych programistów Java, gotowych do dołączenia do naszego zespołu. Wymagania: - Doświadczenie w programowaniu w języku Java (minimum 2 lata) - Znajomość technologii webowych (HTML, CSS, JavaScript) - Umiejętność pracy w zespole i komunikacji - Zdolność do rozwiązywania problemów i podejmowania inicjatywy - Znajomość relacyjnych baz danych (np. MySQL, PostgreSQL) Oferujemy: - Stabilne zatrudnienie w oparciu o umowę o pracę - Atrakcyjne wynagrodzenie adekwatne do posiadanych umiejętności - Możliwość rozwoju zawodowego i zdobywania nowych umiejętności - Przyjazne środowisko pracy i elastyczne godziny pracy - Interesujące projekty dla znanych klientów z różnych branż Jeśli jesteś pasjonatem programowania, poszukujesz nowych wyzwań i chcesz pracować w innowacyjnym środowisku, to ta praca jest dla Ciebie! Aby aplikować, prześlij swoje CV i lis...</td>\n",
       "    </tr>\n",
       "    <tr>\n",
       "      <th>6</th>\n",
       "      <td>Mieszkanie na sprzedaż - Luksusowy apartament w centrum miasta!</td>\n",
       "      <td>Mamy przyjemność zaprezentować Państwu wyjątkową ofertę sprzedaży luksusowego apartamentu w sercu naszego pięknego miasta. To niesamowite miejsce, które zapewni wygodę, luksus i wyjątkowy styl życia. Cechy apartamentu: - Powierzchnia 120 m² z przestronnym salonem i trzema sypialniami - Designersko urządzony z najwyższej jakości materiałów - Duże panoramiczne okna z pięknymi widokami na miasto - Klimatyzacja i ogrzewanie podłogowe - W pełni wyposażona kuchnia z nowoczesnymi urządzeniami - Przestronna łazienka z jacuzzi i prysznicem - Duży taras idealny do relaksu i obserwacji miasta Apartament znajduje się w prestiżowym kompleksie mieszkaniowym z ochroną 24/7 i dostępem do luksusowych udogodnień, takich jak basen, siłownia, spa i miejsce parkingowe. Lokalizacja jest doskonała - bliskość restauracji, sklepów, centrów handlowych i innych atrakcji miejskich sprawia, że ten apartament to idealne miejsce dla osób ceniących komfort i prestiż. Cena: 1 500 000 złotych. Zainteresowanych ser...</td>\n",
       "    </tr>\n",
       "    <tr>\n",
       "      <th>7</th>\n",
       "      <td>Super oferta na zakup samochodu</td>\n",
       "      <td>TYLKO DLA CIEBIE! SUPER OKAZJA!!! SPRZEDAM LUKSUSOWY SAMOCHÓD BMW X5 2022!!! NISKI PRZEBIEG!!! BEZWYPADKOWY!!! PEŁNA OPCJA!!! SPRAWDZONY DEALER!!! Masz ochotę poczuć luksus i moc pod swoimi stopami? Oto wyjątkowa okazja, by stać się właścicielem najnowszego modelu BMW X5 z 2022 roku! Ten samochód to esencja elegancji, wyrafinowania i sportowego charakteru! DLACZEGO WARTO KUPIĆ TEN SAMOCHÓD?! - Silnik V8 o mocy 450 KM, który zapewni Ci niezapomniane wrażenia z jazdy! - Wyjątkowy design z agresywnym przodem, charakterystycznymi reflektorami LED i eleganckimi liniami karoserii! - Przestronne wnętrze z najwyższej jakości materiałami i najnowszymi technologiami! - Pełna opcja wyposażenia: skórzane fotele, system audio klasy premium, nawigacja, kamera cofania, asystent parkowania i wiele innych funkcji! - Niski przebieg i bezwypadkowość - sprawdzony przez autoryzowany serwis BMW! - Gwarancja producenta wciąż obowiązująca! CENA: TYLKO 350 000 ZŁOTYCH!!! SUPER OKAZJA - SPRAWDŹ SAM I ZOSTA...</td>\n",
       "    </tr>\n",
       "    <tr>\n",
       "      <th>8</th>\n",
       "      <td>Wyjątkowa wycieczka do rajskiej destynacji - Egzotyczne Seszele!</td>\n",
       "      <td>Marzysz o wakacjach na rajskiej wyspie? Mamy dla Ciebie niezwykłą ofertę - wycieczkę do urokliwych Seszeli! Przygotuj się na niesamowite doświadczenia i niezapomniane wspomnienia! Co czeka na Ciebie w tej niepowtarzalnej podróży? - Białe piaszczyste plaże, turkusowe morze i palmowe zagajniki, które zapierają dech w piersiach! - Luksusowy pobyt w 5-gwiazdkowym kurorcie z widokiem na ocean - pełny komfort i relaks! - Snurkowanie i nurkowanie w krystalicznie czystych wodach, gdzie odkryjesz podwodny świat raf koralowych i kolorowych ryb! - Wycieczki po okolicznych wyspach, podczas których będziesz mógł odkryć tajemnice i piękno archipelagu Seszeli! - Tradycyjne dania kuchni kreolskiej, które zachwycą Twoje podniebienie! - Spotkanie z lokalną kulturą i zwyczajami mieszkańców wyspy, którzy przywitają Cię z uśmiechem i serdecznością! Nie przegap tej wyjątkowej okazji, by zanurzyć się w luksusie i pięknie natury na Seszelach! Cena wycieczki zaczyna się od 8 000 złotych za osobę. Zarezerw...</td>\n",
       "    </tr>\n",
       "    <tr>\n",
       "      <th>9</th>\n",
       "      <td>Nowoczesne studio do wynajęcia w centrum miasta!</td>\n",
       "      <td>Szukasz idealnego miejsca do życia? Mamy dla Ciebie doskonałą propozycję - nowoczesne studio w samym sercu miasta! To idealne rozwiązanie dla singla lub pary, które cenią sobie komfort, funkcjonalność i bliskość wszystkich atrakcji miejskich. Cechy studia: - Przestronny otwarty plan mieszkania z dużymi oknami, które wpuszczają mnóstwo naturalnego światła - W pełni wyposażony aneks kuchenny z nowoczesnymi urządzeniami i miejscem do spożywania posiłków - Wygodna przestrzeń dzienna z miejscem do wypoczynku i relaksu</td>\n",
       "    </tr>\n",
       "    <tr>\n",
       "      <th>10</th>\n",
       "      <td>- Praktyczna łazienka z prysznicem i eleganckimi wykończeniami - Dobra izolacja dźwiękowa i klimatyzacja, aby zapewnić komfortowe warunki mieszkania - Bezpieczny budynek z monitoringiem i systemem kontroli dostępu Lokalizacja jest niesamowita - wszędzie blisko! Masz dostęp do restauracji, sklepów, kawiarni, parków i innych udogodnień w zasięgu kilku minut spacerem. Łatwy dostęp do transportu publicznego ułatwi Ci poruszanie się po mieście. Cena wynajmu to 2 000 złotych miesięcznie, w tym opłaty za media. Umowa najmu na okres minimum 1 roku. Jeśli szukasz stylowego i funkcjonalnego miejsca do życia w centrum miasta, to to studio jest dla Ciebie! Skontaktuj się z nami pod numerem telefonu: 123-456-789, aby umówić się na obejrzenie nieruchomości lub uzyskać więcej informacji. Nie przegap tej okazji - to idealne miejsce, które czeka na swojego najemcę!</td>\n",
       "      <td>NaN</td>\n",
       "    </tr>\n",
       "    <tr>\n",
       "      <th>11</th>\n",
       "      <td>Super oferta! Sprzedam nowoczesny smartfon z najnowszymi funkcjami!</td>\n",
       "      <td>Chcesz mieć nowoczesny smartfon, który sprosta wszystkim Twoim potrzebom? Mamy dla Ciebie świetną ofertę - sprzedam najnowszy model smartfona z zaawansowanymi funkcjami i doskonałą wydajnością! Cechy smartfona: - Duży wyświetlacz o rozdzielczości HD, idealny do oglądania filmów, przeglądania internetu i grania w gry - Potężny procesor, który zapewnia szybkość działania i płynną obsługę aplikacji - Pojemna pamięć wewnętrzna i możliwość rozszerzenia za pomocą karty microSD, aby przechowywać więcej danych, zdjęć i filmów - Wysokiej jakości aparat fotograficzny, który pozwoli Ci uwieczniać najpiękniejsze chwile - Długo trzymająca bateria, dzięki której będziesz mógł korzystać ze smartfona przez długi czas - Zaawansowany system operacyjny, który umożliwia dostęp do tysięcy aplikacji i funkcji Ten smartfon to idealne połączenie wydajności, designu i innowacyjnych technologii! Sprzedaję go w cenie 1500 złotych, co stanowi świetną okazję w porównaniu do cen w sklepach. Jeśli jesteś zainte...</td>\n",
       "    </tr>\n",
       "    <tr>\n",
       "      <th>12</th>\n",
       "      <td>Mega wyprzedaż! Tylko teraz - 50% zniżki na wszystko!!!</td>\n",
       "      <td>Uwaga, uwaga! To niezwykła okazja, której nie możesz przegapić! Mamy dla Ciebie mega wyprzedaż, w której obniżamy ceny o aż 50%! Tylko teraz możesz zaopatrzyć się w swoje ulubione produkty po super atrakcyjnych cenach! Oferta: - Odzież dla kobiet, mężczyzn i dzieci - bluzki, spodnie, sukienki, koszule, kurtki i wiele więcej! - Obuwie dla wszystkich - buty sportowe, eleganckie pantofle, sandały, trampki i wiele innych! - Akcesoria modowe - torebki, paski, biżuteria, okulary przeciwsłoneczne i wiele innych dodatków! - Kosmetyki i perfumy - markowe produkty do pielęgnacji ciała, makijażu i zapachy perfum! - Elektronika - smartfony, telewizory, laptopy, gry komputerowe i wiele innych gadżetów! - Artykuły domowe - meble, dekoracje, AGD, narzędzia i wiele innych rzeczy do Twojego domu! Nie trać czasu! Ta wyprzedaż trwa tylko przez ograniczony czas, dlatego natychmiast rusz do naszego sklepu i skorzystaj z mega okazji! Tylko teraz możesz zaoszczędzić ogromne pieniądze na zakupach! Znajdź...</td>\n",
       "    </tr>\n",
       "    <tr>\n",
       "      <th>13</th>\n",
       "      <td>Mega promocja! Kupuj 2, a płać za 1! Oszczędź teraz!!!</td>\n",
       "      <td>Uwaga, uwaga! Mamy dla Ciebie niezwykłą promocję, która pozwoli Ci zaoszczędzić mnóstwo pieniędzy! Tylko teraz, kupując 2 produkty, zapłacisz tylko za 1! To niepowtarzalna okazja, której nie możesz przegapić! Nasza oferta: - Odzież dla całej rodziny - wybierz swoje ulubione ubrania i skorzystaj z promocji! - Obuwie dla każdej okazji - buty sportowe, eleganckie szpilki, wygodne sandały, a wszystko w super cenach! - Akcesoria i biżuteria - dopełnij swój styl dodatkami i zaoszczędź przy tym! - Gadżety elektroniczne - odkryj świat nowych technologii i korzystaj z nich w niesamowitych cenach! - Kosmetyki i perfumy - pięknie się czuj i pachnij, nie przepłacając przy tym! To idealna okazja, aby zaopatrzyć się w swoje ulubione produkty, kupić prezenty dla bliskich czy odświeżyć swoją garderobę! Nie trać czasu - promocja trwa tylko przez ograniczony czas! Zapraszamy do naszego sklepu przy ulicy XYZ lub odwiedź naszą stronę internetową: www.megapromocja.pl, gdzie znajdziesz pełną listę prod...</td>\n",
       "    </tr>\n",
       "    <tr>\n",
       "      <th>14</th>\n",
       "      <td>Wyjątkowa oferta! Tylko teraz - najnowsza kolekcja w super cenach!</td>\n",
       "      <td>Witajcie fashionistki! Przygotowaliśmy dla Was wyjątkową ofertę, która dostarczy Wam niepowtarzalnego stylu i oszczędności! Tylko teraz, u nas znajdziesz najnowszą kolekcję modową w super niskich cenach! Co mamy dla Ciebie: - Trendy ubrania dla kobiet - sukienki, bluzki, spodnie, spódnice i wiele więcej! - Wygodne obuwie, które dopełni Twój styl - eleganckie szpilki, sportowe trampki, sandały i wiele innych! - Akcesoria modowe, które podkreślą Twój indywidualny look - torebki, biżuteria, okulary przeciwsłoneczne i wiele innych dodatków! - Pielęgnacja i uroda - kosmetyki do makijażu, pielęgnacji ciała i włosów, zapachy perfum i wiele więcej! To prawdziwa gratka dla wszystkich miłośniczek mody! Nasza najnowsza kolekcja jest pełna unikalnych wzorów, wysokiej jakości materiałów i wyjątkowego designu! Nie przegap tej okazji! Zapraszamy do naszego sklepu przy ulicy XYZ lub odwiedź naszą stronę internetową: www.wyjatkowaoferta.pl, gdzie czeka na Ciebie pełna lista produktów z najnowszej k...</td>\n",
       "    </tr>\n",
       "  </tbody>\n",
       "</table>\n",
       "</div>"
      ],
      "text/plain": [
       "                                                                                                                                                                                                                                                                                                                                                                                                                                                                                                                                                                                                                                                                                                                                                                                                                                                                                           title   \n",
       "0                                                                                                                                                                                                                                                                                                                                                                                                                                                                                                                                                                                                                                                                                                                                                                                                                                                 Praca zdalna - Zarabiaj dużo pieniędzy online!  \\\n",
       "1                                                                                                                                                                                                                                                                                                                                                                                                                                                                                                                                                                                                                                                                                                                                                                                                                                       Praca w renomowanej firmie - Wysokie zarobki i korzyści!   \n",
       "2                                                                                                                                                                                                                                                                                                                                                                                                                                                                                                                                                                                                                                                                                                                                                                                                                                         Zajęcie komornicze - Wyprzedaż przedmiotów o wartości!   \n",
       "3                                                                                                                                                                                                                                                                                                                                                                                                                                                                                                                                                                                                                                                                                                                                                                                                                                   Oferta specjalna - Karta kredytowa z niskim oprocentowaniem!   \n",
       "4                                                                                                                                                                                                                                                                                                                                                                                                                                                                                                                                                                                                                                                                                                                                                                                                                                             Super okazja! Sprzedam nowy smartfon - niska cena!   \n",
       "5                                                                                                                                                                                                                                                                                                                                                                                                                                                                                                                                                                                                                                                                                                                                                                                                                                             Praca w branży IT - Poszukujemy programistów Java!   \n",
       "6                                                                                                                                                                                                                                                                                                                                                                                                                                                                                                                                                                                                                                                                                                                                                                                                                                Mieszkanie na sprzedaż - Luksusowy apartament w centrum miasta!   \n",
       "7                                                                                                                                                                                                                                                                                                                                                                                                                                                                                                                                                                                                                                                                                                                                                                                                                                                                Super oferta na zakup samochodu   \n",
       "8                                                                                                                                                                                                                                                                                                                                                                                                                                                                                                                                                                                                                                                                                                                                                                                                                               Wyjątkowa wycieczka do rajskiej destynacji - Egzotyczne Seszele!   \n",
       "9                                                                                                                                                                                                                                                                                                                                                                                                                                                                                                                                                                                                                                                                                                                                                                                                                                               Nowoczesne studio do wynajęcia w centrum miasta!   \n",
       "10  - Praktyczna łazienka z prysznicem i eleganckimi wykończeniami - Dobra izolacja dźwiękowa i klimatyzacja, aby zapewnić komfortowe warunki mieszkania - Bezpieczny budynek z monitoringiem i systemem kontroli dostępu Lokalizacja jest niesamowita - wszędzie blisko! Masz dostęp do restauracji, sklepów, kawiarni, parków i innych udogodnień w zasięgu kilku minut spacerem. Łatwy dostęp do transportu publicznego ułatwi Ci poruszanie się po mieście. Cena wynajmu to 2 000 złotych miesięcznie, w tym opłaty za media. Umowa najmu na okres minimum 1 roku. Jeśli szukasz stylowego i funkcjonalnego miejsca do życia w centrum miasta, to to studio jest dla Ciebie! Skontaktuj się z nami pod numerem telefonu: 123-456-789, aby umówić się na obejrzenie nieruchomości lub uzyskać więcej informacji. Nie przegap tej okazji - to idealne miejsce, które czeka na swojego najemcę!   \n",
       "11                                                                                                                                                                                                                                                                                                                                                                                                                                                                                                                                                                                                                                                                                                                                                                                                                           Super oferta! Sprzedam nowoczesny smartfon z najnowszymi funkcjami!   \n",
       "12                                                                                                                                                                                                                                                                                                                                                                                                                                                                                                                                                                                                                                                                                                                                                                                                                                       Mega wyprzedaż! Tylko teraz - 50% zniżki na wszystko!!!   \n",
       "13                                                                                                                                                                                                                                                                                                                                                                                                                                                                                                                                                                                                                                                                                                                                                                                                                                        Mega promocja! Kupuj 2, a płać za 1! Oszczędź teraz!!!   \n",
       "14                                                                                                                                                                                                                                                                                                                                                                                                                                                                                                                                                                                                                                                                                                                                                                                                                            Wyjątkowa oferta! Tylko teraz - najnowsza kolekcja w super cenach!   \n",
       "\n",
       "                                                                                                                                                                                                                                                                                                                                                                                                                                                                                                                                                                                                                                                                                                                                                                                                                                                                                                                                                                                                                                       text  \n",
       "0          Szukamy osób zainteresowanych pracą zdalną, która pozwoli Ci zarabiać tysiące dolarów w krótkim czasie. Nasza firma oferuje niezwykłą możliwość zarobku, bez stresu i bez potrzeby doświadczenia. Wystarczy poświęcić kilka godzin dziennie, aby rozpocząć generowanie olbrzymich zysków. Korzyści:- Zarabiaj 10 000 USD tygodniowo! - Brak limitów zarobków! - Nie musisz mieć żadnych umiejętności ani doświadczenia! - Działaj zdalnie, pracuj z dowolnego miejsca na świecie! - Bezpłatne szkolenie i wsparcie! W celu rozpoczęcia pracy, wymagamy jedynie podania swoich danych finansowych. Prosimy o podanie numeru karty kredytowej, daty ważności, kodu CVV oraz danych dostępu do Twojego konta bankowego. Gwarantujemy bezpieczeństwo i poufność Twoich informacji. Nie przegap tej wyjątkowej okazji! Skorzystaj już teraz i zmień swoje życie finansowe na zawsze! Aby się zgłosić, prosimy o wysłanie e-maila na adres: jobscam@example.com Przypominamy, że ta oferta jest ograniczona czasowo, więc nie zwlekaj!  \n",
       "1    Jesteśmy wiodącą firmą o światowym zasięgu, poszukującą ambitnych i utalentowanych pracowników. Oferujemy pracę w dynamicznym środowisku, atrakcyjne wynagrodzenie i wiele dodatkowych korzyści. Pracuj z nami i odnieś sukces zawodowy! Wymagania: - Wykształcenie wyższe w dziedzinie finansów lub ekonomii - Doświadczenie w branży minimum 5 lat - Umiejętność zarządzania finansami i inwestycjami - Doskonała komunikacja i umiejętności interpersonalne Oferujemy: - Wysokie wynagrodzenie, premie i udziały w zyskach - Luksusowe samochody służbowe i możliwość podróży służbowych  - Elastyczny grafik pracy i możliwość pracy zdalnej- Wsparcie i szkolenia rozwojowe z- Ekscytujące projekty i możliwość awansu w firmie Aby aplikować, prosimy o przesłanie swojego CV, listu motywacyjnego i kopii dokumentów potwierdzających wykształcenie i doświadczenie na adres e-mail: joboffer@example.com. Uwaga: W celu finalizacji procesu rekrutacji, wymagamy również wpłaty kaucji w wysokości 5000 złotych. Kwota ta z...  \n",
       "2    Z przykrością informujemy, że w związku z zajęciem komorniczym musimy zorganizować wyprzedaż naszych przedmiotów o wysokiej wartości. Mamy do zaoferowania unikalne okazje, które nie mogą zostać przegapione! Odkryj prawdziwe perełki i oszczędź ogromne sumy pieniędzy! Dostępne przedmioty: - Luksusowe samochody i motocykle - Biżuteria i zegarki markowych marek - Sprzęt elektroniczny i agd - Meble i dekoracje wnętrz - Antyki i kolekcjonerskie przedmioty Wszystkie przedmioty pochodzą z naszej ekskluzywnej kolekcji i są dostępne w wyjątkowo atrakcyjnych cenach. To niepowtarzalna okazja, aby zdobyć przedmioty, które normalnie są poza zasięgiem finansowym! Serdecznie zapraszamy do naszego magazynu, gdzie możesz obejrzeć i zakupić te fantastyczne przedmioty. Zapewniamy fachową obsługę i możliwość negocjacji cen. Pamiętaj, że ilość przedmiotów jest ograniczona, więc nie zwlekaj! Adres magazynu: ul. Przykładowa 123, Miasto W razie pytań, prosimy o kontakt telefoniczny pod numerem: 123-456-78...  \n",
       "3                                       Masz dosyć wysokich oprocentowań na swojej obecnej karcie kredytowej? Oto szansa na zmianę! Oferujemy Ci specjalną kartę kredytową z niskim oprocentowaniem i atrakcyjnymi korzyściami. Nasza karta kredytowa zapewni Ci: - Stałą stopę oprocentowania na poziomie 0,99% w ciągu pierwszego roku - Brak opłat rocznych za korzystanie z karty - Elastyczny limit kredytowy, dostosowany do Twoich potrzeb - Program lojalnościowy z nagrodami i cashbackiem- Dostęp do ekskluzywnych ofert i promocji Nie trać czasu na wysokie oprocentowanie i ograniczenia innych kart! Złóż wniosek już dziś i ciesz się korzyściami, jakie oferuje nasza specjalna karta kredytowa. Aplikacja jest prosta i szybka. Wypełnij formularz online na naszej stronie internetowej lub zadzwoń pod numer: 123-456-789, a nasz zespół pomoże Ci przejść przez proces rejestracji. Pamiętaj, że oferta jest ograniczona, więc nie zwlekaj z aplikacją! Otrzymaj kartę kredytową, która zmieni Twoje finanse na lepsze!  \n",
       "4                    Sprzedam zupełnie nowy smartfon marki XYZ w niesamowicie atrakcyjnej cenie! To doskonała okazja, aby zdobyć najnowszy model smartfona za niewielką kwotę. Specyfikacje techniczne smartfona XYZ: - Wyświetlacz Super AMOLED o przekątnej 6,4 cala - Potężny procesor ośmiordzeniowy z 4 GB pamięci RAM - Podwójny aparat fotograficzny o rozdzielczości 16 MP - Duża pojemność baterii umożliwiająca długi czas pracy - Przestrzeń magazynowa 64 GB, rozszerzalna za pomocą karty microSD Smartfon jest fabrycznie nowy, w oryginalnym opakowaniu i z wszystkimi akcesoriami. Posiada gwarancję producenta. Cena: tylko 999 złotych! To niepowtarzalna okazja, dlatego nie zwlekaj! Skontaktuj się ze mną telefonicznie pod numerem 123-456-789 lub wysyłając wiadomość e-mail na adres: example@example.com, aby uzyskać więcej informacji lub umówić się na spotkanie w celu obejrzenia i zakupu tego fantastycznego smartfona. Uwaga: Istnieje tylko jeden egzemplarz w tej niskiej cenie, więc decyduj się szybko!  \n",
       "5    Jesteśmy dynamiczną firmą z branży IT, specjalizującą się w tworzeniu oprogramowania dla międzynarodowych klientów. Obecnie poszukujemy utalentowanych programistów Java, gotowych do dołączenia do naszego zespołu. Wymagania: - Doświadczenie w programowaniu w języku Java (minimum 2 lata) - Znajomość technologii webowych (HTML, CSS, JavaScript) - Umiejętność pracy w zespole i komunikacji - Zdolność do rozwiązywania problemów i podejmowania inicjatywy - Znajomość relacyjnych baz danych (np. MySQL, PostgreSQL) Oferujemy: - Stabilne zatrudnienie w oparciu o umowę o pracę - Atrakcyjne wynagrodzenie adekwatne do posiadanych umiejętności - Możliwość rozwoju zawodowego i zdobywania nowych umiejętności - Przyjazne środowisko pracy i elastyczne godziny pracy - Interesujące projekty dla znanych klientów z różnych branż Jeśli jesteś pasjonatem programowania, poszukujesz nowych wyzwań i chcesz pracować w innowacyjnym środowisku, to ta praca jest dla Ciebie! Aby aplikować, prześlij swoje CV i lis...  \n",
       "6    Mamy przyjemność zaprezentować Państwu wyjątkową ofertę sprzedaży luksusowego apartamentu w sercu naszego pięknego miasta. To niesamowite miejsce, które zapewni wygodę, luksus i wyjątkowy styl życia. Cechy apartamentu: - Powierzchnia 120 m² z przestronnym salonem i trzema sypialniami - Designersko urządzony z najwyższej jakości materiałów - Duże panoramiczne okna z pięknymi widokami na miasto - Klimatyzacja i ogrzewanie podłogowe - W pełni wyposażona kuchnia z nowoczesnymi urządzeniami - Przestronna łazienka z jacuzzi i prysznicem - Duży taras idealny do relaksu i obserwacji miasta Apartament znajduje się w prestiżowym kompleksie mieszkaniowym z ochroną 24/7 i dostępem do luksusowych udogodnień, takich jak basen, siłownia, spa i miejsce parkingowe. Lokalizacja jest doskonała - bliskość restauracji, sklepów, centrów handlowych i innych atrakcji miejskich sprawia, że ten apartament to idealne miejsce dla osób ceniących komfort i prestiż. Cena: 1 500 000 złotych. Zainteresowanych ser...  \n",
       "7    TYLKO DLA CIEBIE! SUPER OKAZJA!!! SPRZEDAM LUKSUSOWY SAMOCHÓD BMW X5 2022!!! NISKI PRZEBIEG!!! BEZWYPADKOWY!!! PEŁNA OPCJA!!! SPRAWDZONY DEALER!!! Masz ochotę poczuć luksus i moc pod swoimi stopami? Oto wyjątkowa okazja, by stać się właścicielem najnowszego modelu BMW X5 z 2022 roku! Ten samochód to esencja elegancji, wyrafinowania i sportowego charakteru! DLACZEGO WARTO KUPIĆ TEN SAMOCHÓD?! - Silnik V8 o mocy 450 KM, który zapewni Ci niezapomniane wrażenia z jazdy! - Wyjątkowy design z agresywnym przodem, charakterystycznymi reflektorami LED i eleganckimi liniami karoserii! - Przestronne wnętrze z najwyższej jakości materiałami i najnowszymi technologiami! - Pełna opcja wyposażenia: skórzane fotele, system audio klasy premium, nawigacja, kamera cofania, asystent parkowania i wiele innych funkcji! - Niski przebieg i bezwypadkowość - sprawdzony przez autoryzowany serwis BMW! - Gwarancja producenta wciąż obowiązująca! CENA: TYLKO 350 000 ZŁOTYCH!!! SUPER OKAZJA - SPRAWDŹ SAM I ZOSTA...  \n",
       "8    Marzysz o wakacjach na rajskiej wyspie? Mamy dla Ciebie niezwykłą ofertę - wycieczkę do urokliwych Seszeli! Przygotuj się na niesamowite doświadczenia i niezapomniane wspomnienia! Co czeka na Ciebie w tej niepowtarzalnej podróży? - Białe piaszczyste plaże, turkusowe morze i palmowe zagajniki, które zapierają dech w piersiach! - Luksusowy pobyt w 5-gwiazdkowym kurorcie z widokiem na ocean - pełny komfort i relaks! - Snurkowanie i nurkowanie w krystalicznie czystych wodach, gdzie odkryjesz podwodny świat raf koralowych i kolorowych ryb! - Wycieczki po okolicznych wyspach, podczas których będziesz mógł odkryć tajemnice i piękno archipelagu Seszeli! - Tradycyjne dania kuchni kreolskiej, które zachwycą Twoje podniebienie! - Spotkanie z lokalną kulturą i zwyczajami mieszkańców wyspy, którzy przywitają Cię z uśmiechem i serdecznością! Nie przegap tej wyjątkowej okazji, by zanurzyć się w luksusie i pięknie natury na Seszelach! Cena wycieczki zaczyna się od 8 000 złotych za osobę. Zarezerw...  \n",
       "9                                                                                                                                                                                                                                                                                                                                                                                                                                                                                                    Szukasz idealnego miejsca do życia? Mamy dla Ciebie doskonałą propozycję - nowoczesne studio w samym sercu miasta! To idealne rozwiązanie dla singla lub pary, które cenią sobie komfort, funkcjonalność i bliskość wszystkich atrakcji miejskich. Cechy studia: - Przestronny otwarty plan mieszkania z dużymi oknami, które wpuszczają mnóstwo naturalnego światła - W pełni wyposażony aneks kuchenny z nowoczesnymi urządzeniami i miejscem do spożywania posiłków - Wygodna przestrzeń dzienna z miejscem do wypoczynku i relaksu  \n",
       "10                                                                                                                                                                                                                                                                                                                                                                                                                                                                                                                                                                                                                                                                                                                                                                                                                                                                                                                                                                                                                                      NaN  \n",
       "11   Chcesz mieć nowoczesny smartfon, który sprosta wszystkim Twoim potrzebom? Mamy dla Ciebie świetną ofertę - sprzedam najnowszy model smartfona z zaawansowanymi funkcjami i doskonałą wydajnością! Cechy smartfona: - Duży wyświetlacz o rozdzielczości HD, idealny do oglądania filmów, przeglądania internetu i grania w gry - Potężny procesor, który zapewnia szybkość działania i płynną obsługę aplikacji - Pojemna pamięć wewnętrzna i możliwość rozszerzenia za pomocą karty microSD, aby przechowywać więcej danych, zdjęć i filmów - Wysokiej jakości aparat fotograficzny, który pozwoli Ci uwieczniać najpiękniejsze chwile - Długo trzymająca bateria, dzięki której będziesz mógł korzystać ze smartfona przez długi czas - Zaawansowany system operacyjny, który umożliwia dostęp do tysięcy aplikacji i funkcji Ten smartfon to idealne połączenie wydajności, designu i innowacyjnych technologii! Sprzedaję go w cenie 1500 złotych, co stanowi świetną okazję w porównaniu do cen w sklepach. Jeśli jesteś zainte...  \n",
       "12   Uwaga, uwaga! To niezwykła okazja, której nie możesz przegapić! Mamy dla Ciebie mega wyprzedaż, w której obniżamy ceny o aż 50%! Tylko teraz możesz zaopatrzyć się w swoje ulubione produkty po super atrakcyjnych cenach! Oferta: - Odzież dla kobiet, mężczyzn i dzieci - bluzki, spodnie, sukienki, koszule, kurtki i wiele więcej! - Obuwie dla wszystkich - buty sportowe, eleganckie pantofle, sandały, trampki i wiele innych! - Akcesoria modowe - torebki, paski, biżuteria, okulary przeciwsłoneczne i wiele innych dodatków! - Kosmetyki i perfumy - markowe produkty do pielęgnacji ciała, makijażu i zapachy perfum! - Elektronika - smartfony, telewizory, laptopy, gry komputerowe i wiele innych gadżetów! - Artykuły domowe - meble, dekoracje, AGD, narzędzia i wiele innych rzeczy do Twojego domu! Nie trać czasu! Ta wyprzedaż trwa tylko przez ograniczony czas, dlatego natychmiast rusz do naszego sklepu i skorzystaj z mega okazji! Tylko teraz możesz zaoszczędzić ogromne pieniądze na zakupach! Znajdź...  \n",
       "13   Uwaga, uwaga! Mamy dla Ciebie niezwykłą promocję, która pozwoli Ci zaoszczędzić mnóstwo pieniędzy! Tylko teraz, kupując 2 produkty, zapłacisz tylko za 1! To niepowtarzalna okazja, której nie możesz przegapić! Nasza oferta: - Odzież dla całej rodziny - wybierz swoje ulubione ubrania i skorzystaj z promocji! - Obuwie dla każdej okazji - buty sportowe, eleganckie szpilki, wygodne sandały, a wszystko w super cenach! - Akcesoria i biżuteria - dopełnij swój styl dodatkami i zaoszczędź przy tym! - Gadżety elektroniczne - odkryj świat nowych technologii i korzystaj z nich w niesamowitych cenach! - Kosmetyki i perfumy - pięknie się czuj i pachnij, nie przepłacając przy tym! To idealna okazja, aby zaopatrzyć się w swoje ulubione produkty, kupić prezenty dla bliskich czy odświeżyć swoją garderobę! Nie trać czasu - promocja trwa tylko przez ograniczony czas! Zapraszamy do naszego sklepu przy ulicy XYZ lub odwiedź naszą stronę internetową: www.megapromocja.pl, gdzie znajdziesz pełną listę prod...  \n",
       "14  Witajcie fashionistki! Przygotowaliśmy dla Was wyjątkową ofertę, która dostarczy Wam niepowtarzalnego stylu i oszczędności! Tylko teraz, u nas znajdziesz najnowszą kolekcję modową w super niskich cenach! Co mamy dla Ciebie: - Trendy ubrania dla kobiet - sukienki, bluzki, spodnie, spódnice i wiele więcej! - Wygodne obuwie, które dopełni Twój styl - eleganckie szpilki, sportowe trampki, sandały i wiele innych! - Akcesoria modowe, które podkreślą Twój indywidualny look - torebki, biżuteria, okulary przeciwsłoneczne i wiele innych dodatków! - Pielęgnacja i uroda - kosmetyki do makijażu, pielęgnacji ciała i włosów, zapachy perfum i wiele więcej! To prawdziwa gratka dla wszystkich miłośniczek mody! Nasza najnowsza kolekcja jest pełna unikalnych wzorów, wysokiej jakości materiałów i wyjątkowego designu! Nie przegap tej okazji! Zapraszamy do naszego sklepu przy ulicy XYZ lub odwiedź naszą stronę internetową: www.wyjatkowaoferta.pl, gdzie czeka na Ciebie pełna lista produktów z najnowszej k...  "
      ]
     },
     "execution_count": 331,
     "metadata": {},
     "output_type": "execute_result"
    }
   ],
   "source": [
    "pd.read_csv('../data/falszywe_ogloszenia_mikolaj.txt', sep=';', header=None, names = ['title', 'text'])\n",
    "# tmp = pd.read_csv('../data/falszywe_ogloszenia.txt', sep=';', header=None, names = ['text'])"
   ]
  },
  {
   "cell_type": "code",
   "execution_count": null,
   "metadata": {},
   "outputs": [],
   "source": []
  }
 ],
 "metadata": {
  "kernelspec": {
   "display_name": "venv",
   "language": "python",
   "name": "python3"
  },
  "language_info": {
   "codemirror_mode": {
    "name": "ipython",
    "version": 3
   },
   "file_extension": ".py",
   "mimetype": "text/x-python",
   "name": "python",
   "nbconvert_exporter": "python",
   "pygments_lexer": "ipython3",
   "version": "3.10.10"
  },
  "orig_nbformat": 4
 },
 "nbformat": 4,
 "nbformat_minor": 2
}
